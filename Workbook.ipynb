{
 "cells": [
  {
   "cell_type": "markdown",
   "id": "d30679b4",
   "metadata": {},
   "source": [
    "# Task 1\n",
    "## create a repository, make some changes to it, commit"
   ]
  },
  {
   "cell_type": "markdown",
   "id": "5fc0ec50",
   "metadata": {},
   "source": [
    "Please note I'm using \"!\" before each command to run shell commands in jupyter notebook, if run in command line omit the \"!\""
   ]
  },
  {
   "cell_type": "code",
   "execution_count": 8,
   "id": "a5277df1",
   "metadata": {},
   "outputs": [],
   "source": [
    "import os # to change working directories, as shell comands dont work"
   ]
  },
  {
   "cell_type": "code",
   "execution_count": 10,
   "id": "1b257226",
   "metadata": {},
   "outputs": [
    {
     "name": "stdout",
     "output_type": "stream",
     "text": [
      "/home/artur/work_stuff\r\n"
     ]
    }
   ],
   "source": [
    "# our current directory\n",
    "!echo $PWD\n",
    "!cd ..    #this doesnt work in jupyter notebook use os instead\n",
    "os.chdir('..')\n",
    "!echo $PWD"
   ]
  },
  {
   "cell_type": "code",
   "execution_count": 11,
   "id": "fe112856",
   "metadata": {},
   "outputs": [
    {
     "name": "stdout",
     "output_type": "stream",
     "text": [
      "/home/artur/work_stuff/my_repository\r\n"
     ]
    }
   ],
   "source": [
    "# create new folder and change into it\n",
    "!mkdir my_repository\n",
    "os.chdir('./my_repository')\n",
    "!echo $PWD"
   ]
  },
  {
   "cell_type": "code",
   "execution_count": 12,
   "id": "d063c0d4",
   "metadata": {},
   "outputs": [
    {
     "name": "stdout",
     "output_type": "stream",
     "text": [
      "\u001b[33mhint: Using 'master' as the name for the initial branch. This default branch name\u001b[m\r\n",
      "\u001b[33mhint: is subject to change. To configure the initial branch name to use in all\u001b[m\r\n",
      "\u001b[33mhint: of your new repositories, which will suppress this warning, call:\u001b[m\r\n",
      "\u001b[33mhint: \u001b[m\r\n",
      "\u001b[33mhint: \tgit config --global init.defaultBranch <name>\u001b[m\r\n",
      "\u001b[33mhint: \u001b[m\r\n",
      "\u001b[33mhint: Names commonly chosen instead of 'master' are 'main', 'trunk' and\u001b[m\r\n",
      "\u001b[33mhint: 'development'. The just-created branch can be renamed via this command:\u001b[m\r\n",
      "\u001b[33mhint: \u001b[m\r\n",
      "\u001b[33mhint: \tgit branch -m <name>\u001b[m\r\n",
      "Initialized empty Git repository in /home/artur/work_stuff/my_repository/.git/\r\n"
     ]
    }
   ],
   "source": [
    "# initialize the current folder as git repo\n",
    "!git init"
   ]
  },
  {
   "cell_type": "code",
   "execution_count": 13,
   "id": "6c1792bb",
   "metadata": {},
   "outputs": [
    {
     "name": "stdout",
     "output_type": "stream",
     "text": [
      "On branch master\r\n",
      "\r\n",
      "No commits yet\r\n",
      "\r\n",
      "nothing to commit (create/copy files and use \"git add\" to track)\r\n"
     ]
    }
   ],
   "source": [
    "!git status"
   ]
  },
  {
   "cell_type": "code",
   "execution_count": 20,
   "id": "9a4d0d7f",
   "metadata": {},
   "outputs": [],
   "source": [
    "#create a new file and write into it \n",
    "!echo 'Hello world!' >> my_code"
   ]
  },
  {
   "cell_type": "code",
   "execution_count": 24,
   "id": "ec60e68e",
   "metadata": {},
   "outputs": [],
   "source": [
    "#create a new file and write into it \n",
    "!echo 'Hello FOR5159!' >> some_other_file"
   ]
  },
  {
   "cell_type": "code",
   "execution_count": 25,
   "id": "3f3bf88f",
   "metadata": {},
   "outputs": [
    {
     "name": "stdout",
     "output_type": "stream",
     "text": [
      "On branch master\r\n",
      "\r\n",
      "No commits yet\r\n",
      "\r\n",
      "Changes to be committed:\r\n",
      "  (use \"git rm --cached <file>...\" to unstage)\r\n",
      "\t\u001b[32mnew file:   my_code\u001b[m\r\n",
      "\r\n",
      "Untracked files:\r\n",
      "  (use \"git add <file>...\" to include in what will be committed)\r\n",
      "\t\u001b[31msome_other_file\u001b[m\r\n",
      "\r\n"
     ]
    }
   ],
   "source": [
    "!git status"
   ]
  },
  {
   "cell_type": "code",
   "execution_count": 22,
   "id": "6f787297",
   "metadata": {},
   "outputs": [],
   "source": [
    "#add changes to my_code to be tracked by git\n",
    "!git add my_code"
   ]
  },
  {
   "cell_type": "code",
   "execution_count": 26,
   "id": "5b495437",
   "metadata": {},
   "outputs": [
    {
     "name": "stdout",
     "output_type": "stream",
     "text": [
      "On branch master\r\n",
      "\r\n",
      "No commits yet\r\n",
      "\r\n",
      "Changes to be committed:\r\n",
      "  (use \"git rm --cached <file>...\" to unstage)\r\n",
      "\t\u001b[32mnew file:   my_code\u001b[m\r\n",
      "\r\n",
      "Untracked files:\r\n",
      "  (use \"git add <file>...\" to include in what will be committed)\r\n",
      "\t\u001b[31msome_other_file\u001b[m\r\n",
      "\r\n"
     ]
    }
   ],
   "source": [
    "!git status"
   ]
  },
  {
   "cell_type": "markdown",
   "id": "9cc8e9ae",
   "metadata": {},
   "source": [
    "##now the changes are \"staged\""
   ]
  },
  {
   "cell_type": "code",
   "execution_count": null,
   "id": "28518a53",
   "metadata": {},
   "outputs": [],
   "source": [
    "#make a snapshot of our tracked files by commiting"
   ]
  },
  {
   "cell_type": "code",
   "execution_count": 27,
   "id": "e5fc9baa",
   "metadata": {},
   "outputs": [
    {
     "name": "stdout",
     "output_type": "stream",
     "text": [
      "[master (root-commit) 161c10d] created my_code file\r\n",
      " 1 file changed, 1 insertion(+)\r\n",
      " create mode 100644 my_code\r\n"
     ]
    }
   ],
   "source": [
    "!git commit -m 'created my_code file'"
   ]
  },
  {
   "cell_type": "code",
   "execution_count": 28,
   "id": "bc17dde8",
   "metadata": {},
   "outputs": [
    {
     "name": "stdout",
     "output_type": "stream",
     "text": [
      "On branch master\r\n",
      "Untracked files:\r\n",
      "  (use \"git add <file>...\" to include in what will be committed)\r\n",
      "\t\u001b[31msome_other_file\u001b[m\r\n",
      "\r\n",
      "nothing added to commit but untracked files present (use \"git add\" to track)\r\n"
     ]
    }
   ],
   "source": [
    "!git status"
   ]
  },
  {
   "cell_type": "code",
   "execution_count": 52,
   "id": "75d8f1b0",
   "metadata": {},
   "outputs": [],
   "source": [
    "#modify our file \n",
    "!echo 'Hello bak!' >> my_code"
   ]
  },
  {
   "cell_type": "code",
   "execution_count": 33,
   "id": "1e9ae7bb",
   "metadata": {},
   "outputs": [
    {
     "name": "stdout",
     "output_type": "stream",
     "text": [
      "On branch master\r\n",
      "Changes not staged for commit:\r\n",
      "  (use \"git add <file>...\" to update what will be committed)\r\n",
      "  (use \"git restore <file>...\" to discard changes in working directory)\r\n",
      "\t\u001b[31mmodified:   my_code\u001b[m\r\n",
      "\r\n",
      "Untracked files:\r\n",
      "  (use \"git add <file>...\" to include in what will be committed)\r\n",
      "\t\u001b[31msome_other_file\u001b[m\r\n",
      "\r\n",
      "no changes added to commit (use \"git add\" and/or \"git commit -a\")\r\n"
     ]
    }
   ],
   "source": [
    "!git status"
   ]
  },
  {
   "cell_type": "code",
   "execution_count": 54,
   "id": "358b70d6",
   "metadata": {},
   "outputs": [
    {
     "name": "stdout",
     "output_type": "stream",
     "text": [
      "Hello world!\n",
      "Hello bak!\n",
      "\n"
     ]
    }
   ],
   "source": [
    "#check content of our file \n",
    "with open('my_code', 'rt') as f:\n",
    "    print(f.read())"
   ]
  },
  {
   "cell_type": "code",
   "execution_count": 55,
   "id": "06e6bc49",
   "metadata": {},
   "outputs": [],
   "source": [
    "# wait our last addition was b***t let get rid of it\n",
    "!git restore my_code"
   ]
  },
  {
   "cell_type": "code",
   "execution_count": 60,
   "id": "f8e0c81e",
   "metadata": {},
   "outputs": [
    {
     "name": "stdout",
     "output_type": "stream",
     "text": [
      "Hello world!\n",
      "\n"
     ]
    }
   ],
   "source": [
    "#check content of our file \n",
    "with open('my_code', 'rt') as f:\n",
    "    print(f.read())"
   ]
  },
  {
   "cell_type": "code",
   "execution_count": 61,
   "id": "f30644a5",
   "metadata": {},
   "outputs": [],
   "source": [
    "!echo 'Hello back!' >> my_code"
   ]
  },
  {
   "cell_type": "code",
   "execution_count": 62,
   "id": "67a633f5",
   "metadata": {},
   "outputs": [
    {
     "name": "stdout",
     "output_type": "stream",
     "text": [
      "[master 857b7a7]  modified my_code file\r\n",
      " 1 file changed, 1 insertion(+)\r\n"
     ]
    }
   ],
   "source": [
    "!git commit -a -m ' modified my_code file'"
   ]
  },
  {
   "cell_type": "code",
   "execution_count": 63,
   "id": "42538255",
   "metadata": {},
   "outputs": [
    {
     "name": "stdout",
     "output_type": "stream",
     "text": [
      "\u001b[33mcommit 857b7a7f8661c2c2694f9d74b48b450d41b2ab42\u001b[m\u001b[33m (\u001b[m\u001b[1;36mHEAD -> \u001b[m\u001b[1;32mmaster\u001b[m\u001b[33m)\u001b[m\r\n",
      "Author: Artur <artur.schneider@biologie.uni-freiburg.de>\r\n",
      "Date:   Sun Sep 24 20:54:59 2023 +0200\r\n",
      "\r\n",
      "     modified my_code file\r\n",
      "\r\n",
      "\u001b[33mcommit 161c10df64eeadfff5dcf72d302e11bbb8209974\u001b[m\r\n",
      "Author: Artur <artur.schneider@biologie.uni-freiburg.de>\r\n",
      "Date:   Sun Sep 24 20:42:33 2023 +0200\r\n",
      "\r\n",
      "    created my_code file\r\n"
     ]
    }
   ],
   "source": [
    "!git log"
   ]
  },
  {
   "cell_type": "code",
   "execution_count": 64,
   "id": "7e5d62a0",
   "metadata": {},
   "outputs": [],
   "source": [
    "!git tag -a v0.1 -m 'Initial working version'"
   ]
  },
  {
   "cell_type": "code",
   "execution_count": 65,
   "id": "3200eea4",
   "metadata": {},
   "outputs": [
    {
     "name": "stdout",
     "output_type": "stream",
     "text": [
      "\u001b[33mcommit 857b7a7f8661c2c2694f9d74b48b450d41b2ab42\u001b[m\u001b[33m (\u001b[m\u001b[1;36mHEAD -> \u001b[m\u001b[1;32mmaster\u001b[m\u001b[33m, \u001b[m\u001b[1;33mtag: v0.1\u001b[m\u001b[33m)\u001b[m\r\n",
      "Author: Artur <artur.schneider@biologie.uni-freiburg.de>\r\n",
      "Date:   Sun Sep 24 20:54:59 2023 +0200\r\n",
      "\r\n",
      "     modified my_code file\r\n",
      "\r\n",
      "\u001b[33mcommit 161c10df64eeadfff5dcf72d302e11bbb8209974\u001b[m\r\n",
      "Author: Artur <artur.schneider@biologie.uni-freiburg.de>\r\n",
      "Date:   Sun Sep 24 20:42:33 2023 +0200\r\n",
      "\r\n",
      "    created my_code file\r\n"
     ]
    }
   ],
   "source": [
    "!git log"
   ]
  },
  {
   "cell_type": "code",
   "execution_count": 66,
   "id": "f74508e2",
   "metadata": {},
   "outputs": [
    {
     "name": "stdout",
     "output_type": "stream",
     "text": [
      "[master abdd043] some not so usefull mofification\n",
      " 1 file changed, 1 insertion(+)\n",
      "[master f93af73] some not so usefull mofification\n",
      " 1 file changed, 1 insertion(+)\n",
      "[master e7a96b1] some not so usefull mofification\n",
      " 1 file changed, 1 insertion(+)\n"
     ]
    }
   ],
   "source": [
    "!echo 'Hello!' >> my_code\n",
    "!git commit -a -m 'some not so usefull mofification'\n",
    "!echo 'Hello lolo!' >> my_code\n",
    "!git commit -a -m 'some not so usefull mofification'\n",
    "!echo 'Hello lololloolo!' >> my_code\n",
    "!git commit -a -m 'some not so usefull mofification'"
   ]
  },
  {
   "cell_type": "code",
   "execution_count": 67,
   "id": "5c77ac4f",
   "metadata": {},
   "outputs": [
    {
     "name": "stdout",
     "output_type": "stream",
     "text": [
      "\u001b[33mcommit e7a96b1b9124f1a42a988c4d73543f03f4f86ac3\u001b[m\u001b[33m (\u001b[m\u001b[1;36mHEAD -> \u001b[m\u001b[1;32mmaster\u001b[m\u001b[33m)\u001b[m\r\n",
      "Author: Artur <artur.schneider@biologie.uni-freiburg.de>\r\n",
      "Date:   Sun Sep 24 20:58:44 2023 +0200\r\n",
      "\r\n",
      "    some not so usefull mofification\r\n",
      "\r\n",
      "\u001b[33mcommit f93af737688c39db1ac485831fc8926c76bc426e\u001b[m\r\n",
      "Author: Artur <artur.schneider@biologie.uni-freiburg.de>\r\n",
      "Date:   Sun Sep 24 20:58:43 2023 +0200\r\n",
      "\r\n",
      "    some not so usefull mofification\r\n",
      "\r\n",
      "\u001b[33mcommit abdd043228467e16199a89fa49a5f1174717514c\u001b[m\r\n",
      "Author: Artur <artur.schneider@biologie.uni-freiburg.de>\r\n",
      "Date:   Sun Sep 24 20:58:43 2023 +0200\r\n",
      "\r\n",
      "    some not so usefull mofification\r\n",
      "\r\n",
      "\u001b[33mcommit 857b7a7f8661c2c2694f9d74b48b450d41b2ab42\u001b[m\u001b[33m (\u001b[m\u001b[1;33mtag: v0.1\u001b[m\u001b[33m)\u001b[m\r\n",
      "Author: Artur <artur.schneider@biologie.uni-freiburg.de>\r\n",
      "Date:   Sun Sep 24 20:54:59 2023 +0200\r\n",
      "\r\n",
      "     modified my_code file\r\n",
      "\r\n",
      "\u001b[33mcommit 161c10df64eeadfff5dcf72d302e11bbb8209974\u001b[m\r\n",
      "Author: Artur <artur.schneider@biologie.uni-freiburg.de>\r\n",
      "Date:   Sun Sep 24 20:42:33 2023 +0200\r\n",
      "\r\n",
      "    created my_code file\r\n"
     ]
    }
   ],
   "source": [
    "!git log"
   ]
  },
  {
   "cell_type": "code",
   "execution_count": 68,
   "id": "f83611d0",
   "metadata": {},
   "outputs": [
    {
     "name": "stdout",
     "output_type": "stream",
     "text": [
      "Unstaged changes after reset:\r\n",
      "M\tmy_code\r\n"
     ]
    }
   ],
   "source": [
    "#delete commits after v0.1 \n",
    "!git reset v0.1"
   ]
  },
  {
   "cell_type": "code",
   "execution_count": 70,
   "id": "8c766b31",
   "metadata": {},
   "outputs": [
    {
     "name": "stdout",
     "output_type": "stream",
     "text": [
      "\u001b[33mcommit 857b7a7f8661c2c2694f9d74b48b450d41b2ab42\u001b[m\u001b[33m (\u001b[m\u001b[1;36mHEAD -> \u001b[m\u001b[1;32mmaster\u001b[m\u001b[33m, \u001b[m\u001b[1;33mtag: v0.1\u001b[m\u001b[33m)\u001b[m\r\n",
      "Author: Artur <artur.schneider@biologie.uni-freiburg.de>\r\n",
      "Date:   Sun Sep 24 20:54:59 2023 +0200\r\n",
      "\r\n",
      "     modified my_code file\r\n",
      "\r\n",
      "\u001b[33mcommit 161c10df64eeadfff5dcf72d302e11bbb8209974\u001b[m\r\n",
      "Author: Artur <artur.schneider@biologie.uni-freiburg.de>\r\n",
      "Date:   Sun Sep 24 20:42:33 2023 +0200\r\n",
      "\r\n",
      "    created my_code file\r\n"
     ]
    }
   ],
   "source": [
    "!git log"
   ]
  },
  {
   "cell_type": "code",
   "execution_count": 69,
   "id": "71313172",
   "metadata": {},
   "outputs": [
    {
     "name": "stdout",
     "output_type": "stream",
     "text": [
      "On branch master\r\n",
      "Changes not staged for commit:\r\n",
      "  (use \"git add <file>...\" to update what will be committed)\r\n",
      "  (use \"git restore <file>...\" to discard changes in working directory)\r\n",
      "\t\u001b[31mmodified:   my_code\u001b[m\r\n",
      "\r\n",
      "Untracked files:\r\n",
      "  (use \"git add <file>...\" to include in what will be committed)\r\n",
      "\t\u001b[31msome_other_file\u001b[m\r\n",
      "\r\n",
      "no changes added to commit (use \"git add\" and/or \"git commit -a\")\r\n"
     ]
    }
   ],
   "source": [
    "!git status"
   ]
  },
  {
   "cell_type": "code",
   "execution_count": null,
   "id": "9cd8c66e",
   "metadata": {},
   "outputs": [],
   "source": [
    "#delete commits after v0.1 and deleted changes !!!\n",
    "!git reset --hard v0.1"
   ]
  },
  {
   "cell_type": "code",
   "execution_count": 74,
   "id": "ade45a6f",
   "metadata": {},
   "outputs": [
    {
     "name": "stdout",
     "output_type": "stream",
     "text": [
      "On branch master\r\n",
      "Untracked files:\r\n",
      "  (use \"git add <file>...\" to include in what will be committed)\r\n",
      "\t\u001b[31msome_other_file\u001b[m\r\n",
      "\r\n",
      "nothing added to commit but untracked files present (use \"git add\" to track)\r\n"
     ]
    }
   ],
   "source": [
    "!git status"
   ]
  },
  {
   "cell_type": "code",
   "execution_count": 75,
   "id": "d761807c",
   "metadata": {},
   "outputs": [
    {
     "name": "stdout",
     "output_type": "stream",
     "text": [
      "On branch master\r\n",
      "Untracked files:\r\n",
      "  (use \"git add <file>...\" to include in what will be committed)\r\n",
      "\t\u001b[31m.gitignore\u001b[m\r\n",
      "\r\n",
      "nothing added to commit but untracked files present (use \"git add\" to track)\r\n"
     ]
    }
   ],
   "source": [
    "#the untracked message for some_other_file is annoying, lets tell git to ignore it\n",
    "!echo 'some_other_file' >> .gitignore\n",
    "!git status"
   ]
  },
  {
   "cell_type": "markdown",
   "id": "f5e838b1",
   "metadata": {},
   "source": [
    "# Now Branching"
   ]
  },
  {
   "cell_type": "code",
   "execution_count": 78,
   "id": "0dd34d4e",
   "metadata": {},
   "outputs": [],
   "source": [
    "!git branch"
   ]
  },
  {
   "cell_type": "code",
   "execution_count": 83,
   "id": "ab78b673",
   "metadata": {},
   "outputs": [
    {
     "name": "stdout",
     "output_type": "stream",
     "text": [
      "error: unknown option `checkout'\r\n",
      "usage: git branch [<options>] [-r | -a] [--merged] [--no-merged]\r\n",
      "   or: git branch [<options>] [-f] [--recurse-submodules] <branch-name> [<start-point>]\r\n",
      "   or: git branch [<options>] [-l] [<pattern>...]\r\n",
      "   or: git branch [<options>] [-r] (-d | -D) <branch-name>...\r\n",
      "   or: git branch [<options>] (-m | -M) [<old-branch>] <new-branch>\r\n",
      "   or: git branch [<options>] (-c | -C) [<old-branch>] <new-branch>\r\n",
      "   or: git branch [<options>] [-r | -a] [--points-at]\r\n",
      "   or: git branch [<options>] [-r | -a] [--format]\r\n",
      "\r\n",
      "Generic options\r\n",
      "    -v, --verbose         show hash and subject, give twice for upstream branch\r\n",
      "    -q, --quiet           suppress informational messages\r\n",
      "    -t, --track[=(direct|inherit)]\r\n",
      "                          set branch tracking configuration\r\n",
      "    -u, --set-upstream-to <upstream>\r\n",
      "                          change the upstream info\r\n",
      "    --unset-upstream      unset the upstream info\r\n",
      "    --color[=<when>]      use colored output\r\n",
      "    -r, --remotes         act on remote-tracking branches\r\n",
      "    --contains <commit>   print only branches that contain the commit\r\n",
      "    --no-contains <commit>\r\n",
      "                          print only branches that don't contain the commit\r\n",
      "    --abbrev[=<n>]        use <n> digits to display object names\r\n",
      "\r\n",
      "Specific git-branch actions:\r\n",
      "    -a, --all             list both remote-tracking and local branches\r\n",
      "    -d, --delete          delete fully merged branch\r\n",
      "    -D                    delete branch (even if not merged)\r\n",
      "    -m, --move            move/rename a branch and its reflog\r\n",
      "    -M                    move/rename a branch, even if target exists\r\n",
      "    -c, --copy            copy a branch and its reflog\r\n",
      "    -C                    copy a branch, even if target exists\r\n",
      "    -l, --list            list branch names\r\n",
      "    --show-current        show current branch name\r\n",
      "    --create-reflog       create the branch's reflog\r\n",
      "    --edit-description    edit the description for the branch\r\n",
      "    -f, --force           force creation, move/rename, deletion\r\n",
      "    --merged <commit>     print only branches that are merged\r\n",
      "    --no-merged <commit>  print only branches that are not merged\r\n",
      "    --column[=<style>]    list branches in columns\r\n",
      "    --sort <key>          field name to sort on\r\n",
      "    --points-at <object>  print only branches of the object\r\n",
      "    -i, --ignore-case     sorting and filtering are case insensitive\r\n",
      "    --recurse-submodules  recurse through submodules\r\n",
      "    --format <format>     format to use for the output\r\n",
      "\r\n"
     ]
    }
   ],
   "source": [
    "!git branch new_idea"
   ]
  },
  {
   "cell_type": "code",
   "execution_count": 82,
   "id": "a3f5842b",
   "metadata": {},
   "outputs": [
    {
     "name": "stdout",
     "output_type": "stream",
     "text": [
      "* \u001b[32mmaster\u001b[m\r\n",
      "  new_idea\u001b[m\r\n"
     ]
    }
   ],
   "source": [
    "!git branch"
   ]
  },
  {
   "cell_type": "code",
   "execution_count": 84,
   "id": "c8c19083",
   "metadata": {},
   "outputs": [
    {
     "name": "stdout",
     "output_type": "stream",
     "text": [
      "Switched to branch 'new_idea'\r\n"
     ]
    }
   ],
   "source": [
    "!git checkout new_idea"
   ]
  },
  {
   "cell_type": "code",
   "execution_count": 85,
   "id": "b2b6d9a3",
   "metadata": {},
   "outputs": [
    {
     "name": "stdout",
     "output_type": "stream",
     "text": [
      "  master\u001b[m\r\n",
      "* \u001b[32mnew_idea\u001b[m\r\n"
     ]
    }
   ],
   "source": [
    "!git branch"
   ]
  },
  {
   "cell_type": "code",
   "execution_count": 86,
   "id": "a3738dfc",
   "metadata": {},
   "outputs": [],
   "source": [
    "!touch code.py\n",
    "#lets add this amazin function to our code\n",
    "def my_newfunction(input):\n",
    "    return do_stuff(inter_med)"
   ]
  },
  {
   "cell_type": "code",
   "execution_count": 88,
   "id": "c940a167",
   "metadata": {},
   "outputs": [],
   "source": [
    "!git add code.py\n",
    "!git add .gitignore"
   ]
  },
  {
   "cell_type": "code",
   "execution_count": 89,
   "id": "f7ca2e98",
   "metadata": {},
   "outputs": [
    {
     "name": "stdout",
     "output_type": "stream",
     "text": [
      "[new_idea b1e71a8] added great function\r\n",
      " 2 files changed, 3 insertions(+)\r\n",
      " create mode 100644 .gitignore\r\n",
      " create mode 100644 code.py\r\n"
     ]
    }
   ],
   "source": [
    "!git commit -a -m 'added great function'"
   ]
  },
  {
   "cell_type": "code",
   "execution_count": 91,
   "id": "c9483ca6",
   "metadata": {},
   "outputs": [
    {
     "name": "stdout",
     "output_type": "stream",
     "text": [
      "code.py  my_code  some_other_file\r\n"
     ]
    }
   ],
   "source": [
    "!ls"
   ]
  },
  {
   "cell_type": "code",
   "execution_count": 94,
   "id": "cb202cd6",
   "metadata": {},
   "outputs": [
    {
     "name": "stdout",
     "output_type": "stream",
     "text": [
      "Switched to branch 'master'\r\n"
     ]
    }
   ],
   "source": [
    "!git checkout master"
   ]
  },
  {
   "cell_type": "code",
   "execution_count": 95,
   "id": "6ae51832",
   "metadata": {},
   "outputs": [
    {
     "name": "stdout",
     "output_type": "stream",
     "text": [
      "my_code  some_other_file\r\n"
     ]
    }
   ],
   "source": [
    "!ls"
   ]
  },
  {
   "cell_type": "code",
   "execution_count": 96,
   "id": "a9ebba6a",
   "metadata": {},
   "outputs": [
    {
     "name": "stdout",
     "output_type": "stream",
     "text": [
      "Switched to branch 'new_idea'\n",
      "code.py  my_code  some_other_file\n"
     ]
    }
   ],
   "source": [
    "!git checkout new_idea\n",
    "!ls"
   ]
  },
  {
   "cell_type": "code",
   "execution_count": 97,
   "id": "7bb8e9c7",
   "metadata": {},
   "outputs": [
    {
     "name": "stdout",
     "output_type": "stream",
     "text": [
      "Switched to branch 'master'\n",
      "Updating 857b7a7..b1e71a8\n",
      "Fast-forward\n",
      " .gitignore | 1 \u001b[32m+\u001b[m\n",
      " code.py    | 2 \u001b[32m++\u001b[m\n",
      " 2 files changed, 3 insertions(+)\n",
      " create mode 100644 .gitignore\n",
      " create mode 100644 code.py\n"
     ]
    }
   ],
   "source": [
    "#lets combine our work and merge\n",
    "!git checkout master\n",
    "!git merge new_idea\n",
    "!git status"
   ]
  },
  {
   "cell_type": "code",
   "execution_count": 100,
   "id": "49ab1fc2",
   "metadata": {},
   "outputs": [
    {
     "name": "stdout",
     "output_type": "stream",
     "text": [
      "Deleted branch new_idea (was b1e71a8).\r\n"
     ]
    }
   ],
   "source": [
    "# delete old branch\n",
    "!git branch -d new_idea"
   ]
  },
  {
   "cell_type": "code",
   "execution_count": 101,
   "id": "57c64b4a",
   "metadata": {},
   "outputs": [
    {
     "name": "stdout",
     "output_type": "stream",
     "text": [
      "Switched to a new branch 'test'\r\n"
     ]
    }
   ],
   "source": [
    "# you have an idea how to improve your code \n",
    "# add it to ur code\n",
    "# however you are not sure if it will workout in the end\n",
    "# so lets keep the changes in a branch until we finished implementatio\n",
    "!git checkout -b test"
   ]
  },
  {
   "cell_type": "code",
   "execution_count": 103,
   "id": "faba44c2",
   "metadata": {},
   "outputs": [
    {
     "name": "stdout",
     "output_type": "stream",
     "text": [
      "[test efb0249] added preprocessing\r\n",
      " 1 file changed, 1 insertion(+)\r\n"
     ]
    }
   ],
   "source": [
    "!git commit -a -m 'added preprocessing'"
   ]
  },
  {
   "cell_type": "code",
   "execution_count": 104,
   "id": "7338bcf6",
   "metadata": {},
   "outputs": [
    {
     "name": "stdout",
     "output_type": "stream",
     "text": [
      "Switched to branch 'master'\r\n"
     ]
    }
   ],
   "source": [
    "#lets go back to master\n",
    "!git checkout master\n",
    "# wait a second.. is this a bug ?\n",
    "#fix the bug\n"
   ]
  },
  {
   "cell_type": "code",
   "execution_count": 105,
   "id": "10c4e71a",
   "metadata": {},
   "outputs": [
    {
     "name": "stdout",
     "output_type": "stream",
     "text": [
      "[master 4c9b973] fixed a bug\r\n",
      " 1 file changed, 1 insertion(+), 1 deletion(-)\r\n"
     ]
    }
   ],
   "source": [
    "!git commit -a -m 'fixed a bug'"
   ]
  },
  {
   "cell_type": "code",
   "execution_count": 106,
   "id": "97ed49ef",
   "metadata": {},
   "outputs": [
    {
     "name": "stdout",
     "output_type": "stream",
     "text": [
      "Auto-merging code.py\r\n",
      "CONFLICT (content): Merge conflict in code.py\r\n",
      "Automatic merge failed; fix conflicts and then commit the result.\r\n"
     ]
    }
   ],
   "source": [
    "!git merge test"
   ]
  },
  {
   "cell_type": "code",
   "execution_count": null,
   "id": "4772decd",
   "metadata": {},
   "outputs": [],
   "source": [
    "!git status"
   ]
  },
  {
   "cell_type": "code",
   "execution_count": 107,
   "id": "d5da680e",
   "metadata": {},
   "outputs": [
    {
     "name": "stdout",
     "output_type": "stream",
     "text": [
      "[master 091803e] merged a test branch\r\n"
     ]
    }
   ],
   "source": [
    "#fix merge conflict\n",
    "!git add code.py\n",
    "!git commit  -m 'merged a test branch'"
   ]
  },
  {
   "cell_type": "code",
   "execution_count": 108,
   "id": "7edec60d",
   "metadata": {},
   "outputs": [
    {
     "name": "stdout",
     "output_type": "stream",
     "text": [
      "On branch master\r\n",
      "nothing to commit, working tree clean\r\n"
     ]
    }
   ],
   "source": [
    "!git status"
   ]
  },
  {
   "cell_type": "markdown",
   "id": "b2d5e568",
   "metadata": {},
   "source": [
    "# Remote repositories"
   ]
  },
  {
   "cell_type": "code",
   "execution_count": 110,
   "id": "3f223db5",
   "metadata": {},
   "outputs": [
    {
     "name": "stdout",
     "output_type": "stream",
     "text": [
      "Cloning into 'git_workshop_for5159'...\n",
      "remote: Enumerating objects: 35, done.\u001b[K\n",
      "remote: Counting objects: 100% (35/35), done.\u001b[K\n",
      "remote: Compressing objects: 100% (19/19), done.\u001b[K\n",
      "remote: Total 35 (delta 17), reused 29 (delta 14), pack-reused 0\u001b[K\n",
      "Receiving objects: 100% (35/35), 352.41 KiB | 4.10 MiB/s, done.\n",
      "Resolving deltas: 100% (17/17), done.\n",
      "commands  github-git-cheat-sheet.pdf  homework\tLICENSE  README.md\n"
     ]
    }
   ],
   "source": [
    "os.chdir('..')\n",
    "!git clone https://github.com/arturoptophys/git_workshop_for5159.git\n",
    "os.chdir('./git_workshop_for5159')\n",
    "!ls"
   ]
  },
  {
   "cell_type": "code",
   "execution_count": 111,
   "id": "74618237",
   "metadata": {},
   "outputs": [
    {
     "name": "stdout",
     "output_type": "stream",
     "text": [
      "On branch main\r\n",
      "Your branch is up to date with 'origin/main'.\r\n",
      "\r\n",
      "nothing to commit, working tree clean\r\n"
     ]
    }
   ],
   "source": [
    "!git status"
   ]
  },
  {
   "cell_type": "code",
   "execution_count": 116,
   "id": "80a9a5cf",
   "metadata": {},
   "outputs": [
    {
     "name": "stdout",
     "output_type": "stream",
     "text": [
      "origin\r\n"
     ]
    }
   ],
   "source": [
    "!git remote"
   ]
  },
  {
   "cell_type": "code",
   "execution_count": 112,
   "id": "5e185211",
   "metadata": {},
   "outputs": [
    {
     "name": "stdout",
     "output_type": "stream",
     "text": [
      "\u001b[33mcommit 9b3a2bc1e133b0d111943c45ad141b6ee9ef83f4\u001b[m\u001b[33m (\u001b[m\u001b[1;36mHEAD -> \u001b[m\u001b[1;32mmain\u001b[m\u001b[33m, \u001b[m\u001b[1;31morigin/main\u001b[m\u001b[33m, \u001b[m\u001b[1;31morigin/HEAD\u001b[m\u001b[33m)\u001b[m\r\n",
      "Author: Artur <artur.schneider@biologie.uni-freiburg.de>\r\n",
      "Date:   Sat Sep 23 19:35:23 2023 +0200\r\n",
      "\r\n",
      "    added stuff\r\n",
      "\r\n",
      "\u001b[33mcommit 3c6fab79f85ee76e3f91301d2252bea9b6b6c1fb\u001b[m\r\n",
      "Merge: e97aff3 8a81994\r\n",
      "Author: Artur <artur.schneider@biologie.uni-freiburg.de>\r\n",
      "Date:   Sat Sep 23 19:16:28 2023 +0200\r\n",
      "\r\n",
      "    fixed merge_conflict\r\n",
      "\r\n",
      "\u001b[33mcommit e97aff31bd6d3c6811d5faea110d1e6d808ac6b8\u001b[m\r\n",
      "Author: Artur <artur.schneider@biologie.uni-freiburg.de>\r\n",
      "Date:   Sat Sep 23 19:14:13 2023 +0200\r\n",
      "\r\n",
      "    bugfix\r\n",
      "\r\n",
      "\u001b[33mcommit 8a81994eab8db11de356dad2cc99bc1c665e739f\u001b[m\r\n",
      "Author: Artur <artur.schneider@biologie.uni-freiburg.de>\r\n",
      "Date:   Sat Sep 23 19:13:39 2023 +0200\r\n",
      "\r\n",
      "    added new features\r\n",
      "\r\n",
      "\u001b[33mcommit 8497c9641ea4c80efcfd4570d5f2b62e76b23061\u001b[m\r\n",
      "Author: Artur <artur.schneider@biologie.uni-freiburg.de>\r\n",
      "Date:   Sat Sep 23 19:11:58 2023 +0200\r\n",
      "\r\n",
      "    added a function\r\n",
      "\r\n",
      "\u001b[33mcommit 966a333115f6d4d74be68c09c416a3fa3ae19950\u001b[m\r\n",
      "Author: Artur <artur.schneider@biologie.uni-freiburg.de>\r\n",
      "Date:   Sat Sep 23 19:10:12 2023 +0200\r\n",
      "\r\n",
      "    changes to commands\r\n",
      "\r\n",
      "\u001b[33mcommit d7e969e3cce28ee3a230c4b2e722be76e8c097b9\u001b[m\r\n",
      "Author: Artur <artur.schneider@biologie.uni-freiburg.de>\r\n",
      "Date:   Sat Sep 23 19:06:57 2023 +0200\r\n",
      "\r\n",
      "    added homework\r\n",
      "\r\n",
      "\u001b[33mcommit 75009a90ae783f92eebe869bd7cb77df1c1cd027\u001b[m\r\n",
      "Author: Artur <artur.schneider@biologie.uni-freiburg.de>\r\n",
      "Date:   Sat Sep 23 18:48:44 2023 +0200\r\n",
      "\r\n",
      "    added commands file\r\n",
      "\r\n",
      "\u001b[33mcommit 50839d00708cc03d308b958f25e0315ac0c4ff23\u001b[m\r\n",
      "Merge: b4707f4 0c1aae8\r\n",
      "Author: Artur <artur.schneider@biologie.uni-freiburg.de>\r\n",
      "Date:   Sat Sep 23 18:40:25 2023 +0200\r\n",
      "\r\n",
      "    added git cheat sheet\r\n",
      "    Merge branch 'master'\r\n",
      "\r\n",
      "\u001b[33mcommit b4707f41800b81067605959a506094042f2ba2ac\u001b[m\r\n",
      "Author: Artur <35294812+arturoptophys@users.noreply.github.com>\r\n",
      "Date:   Sat Sep 23 18:31:30 2023 +0200\r\n",
      "\r\n",
      "    Initial commit\r\n",
      "\r\n",
      "\u001b[33mcommit 0c1aae8d2d1d37dc2aeeeab15de7313992eb8ce5\u001b[m\u001b[33m (\u001b[m\u001b[1;31morigin/master\u001b[m\u001b[33m)\u001b[m\r\n",
      "Author: Artur <artur.schneider@biologie.uni-freiburg.de>\r\n",
      "Date:   Sat Sep 23 18:10:42 2023 +0200\r\n",
      "\r\n",
      "    first commit\r\n"
     ]
    }
   ],
   "source": [
    "!git log"
   ]
  },
  {
   "cell_type": "code",
   "execution_count": 115,
   "id": "dd310f0b",
   "metadata": {},
   "outputs": [
    {
     "name": "stdout",
     "output_type": "stream",
     "text": [
      "[main 1c54e53] added soem code\r\n",
      " 1 file changed, 3 insertions(+)\r\n",
      " create mode 100644 my_code\r\n"
     ]
    }
   ],
   "source": [
    "#create new file and commit changes\n",
    "!echo 'Hello World!' >> my_code\n",
    "!git add my_code\n",
    "!git commit -m 'added soem code'\n"
   ]
  },
  {
   "cell_type": "code",
   "execution_count": null,
   "id": "66d0fd77",
   "metadata": {},
   "outputs": [],
   "source": [
    "!git status"
   ]
  },
  {
   "cell_type": "code",
   "execution_count": 117,
   "id": "b7b7d268",
   "metadata": {},
   "outputs": [
    {
     "name": "stdout",
     "output_type": "stream",
     "text": [
      "Enumerating objects: 4, done.\n",
      "Counting objects: 100% (4/4), done.\n",
      "Delta compression using up to 8 threads\n",
      "Compressing objects: 100% (2/2), done.\n",
      "Writing objects: 100% (3/3), 297 bytes | 297.00 KiB/s, done.\n",
      "Total 3 (delta 1), reused 0 (delta 0), pack-reused 0\n",
      "remote: Resolving deltas: 100% (1/1), completed with 1 local object.\u001b[K\n",
      "To https://github.com/arturoptophys/git_workshop_for5159.git\n",
      "   9b3a2bc..1c54e53  main -> main\n"
     ]
    }
   ],
   "source": [
    "# push our new commints to remote repository\n",
    "!git push "
   ]
  },
  {
   "cell_type": "code",
   "execution_count": 118,
   "id": "1c1ca2f2",
   "metadata": {},
   "outputs": [
    {
     "name": "stdout",
     "output_type": "stream",
     "text": [
      "On branch main\r\n",
      "Your branch is up to date with 'origin/main'.\r\n",
      "\r\n",
      "nothing to commit, working tree clean\r\n"
     ]
    }
   ],
   "source": [
    "!git status"
   ]
  },
  {
   "cell_type": "code",
   "execution_count": 122,
   "id": "4201af93",
   "metadata": {},
   "outputs": [
    {
     "name": "stdout",
     "output_type": "stream",
     "text": [
      "remote: Enumerating objects: 5, done.\u001b[K\n",
      "remote: Counting objects: 100% (5/5), done.\u001b[K\n",
      "remote: Compressing objects: 100% (3/3), done.\u001b[K\n",
      "remote: Total 3 (delta 1), reused 0 (delta 0), pack-reused 0\u001b[K\n",
      "Unpacking objects: 100% (3/3), 740 bytes | 370.00 KiB/s, done.\n",
      "From https://github.com/arturoptophys/git_workshop_for5159\n",
      "   1c54e53..c43746e  main       -> origin/main\n"
     ]
    }
   ],
   "source": [
    "#get newest version from remote\n",
    "!git fetch"
   ]
  },
  {
   "cell_type": "code",
   "execution_count": 123,
   "id": "ca6c1c3d",
   "metadata": {},
   "outputs": [
    {
     "name": "stdout",
     "output_type": "stream",
     "text": [
      "On branch main\r\n",
      "Your branch is behind 'origin/main' by 1 commit, and can be fast-forwarded.\r\n",
      "  (use \"git pull\" to update your local branch)\r\n",
      "\r\n",
      "nothing to commit, working tree clean\r\n"
     ]
    }
   ],
   "source": [
    "!git status"
   ]
  },
  {
   "cell_type": "code",
   "execution_count": 124,
   "id": "0b144213",
   "metadata": {},
   "outputs": [
    {
     "name": "stdout",
     "output_type": "stream",
     "text": [
      "Updating 1c54e53..c43746e\r\n",
      "Fast-forward\r\n",
      " README.md | 5 \u001b[32m++++\u001b[m\u001b[31m-\u001b[m\r\n",
      " 1 file changed, 4 insertions(+), 1 deletion(-)\r\n"
     ]
    }
   ],
   "source": [
    "#get newest version from remote and checkout\n",
    "!git pull"
   ]
  }
 ],
 "metadata": {
  "kernelspec": {
   "display_name": "Python 3 (ipykernel)",
   "language": "python",
   "name": "python3"
  },
  "language_info": {
   "codemirror_mode": {
    "name": "ipython",
    "version": 3
   },
   "file_extension": ".py",
   "mimetype": "text/x-python",
   "name": "python",
   "nbconvert_exporter": "python",
   "pygments_lexer": "ipython3",
   "version": "3.9.15"
  }
 },
 "nbformat": 4,
 "nbformat_minor": 5
}
